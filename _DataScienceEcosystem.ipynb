{
 "cells": [
  {
   "cell_type": "markdown",
   "id": "d2b07fd2-afe5-4a0a-a27a-301c34468ed7",
   "metadata": {},
   "source": [
    "#Data Science Tools and Ecosystem\n"
   ]
  },
  {
   "cell_type": "markdown",
   "id": "7d125952-7df3-47c2-94bf-0fd2f2d9090d",
   "metadata": {},
   "source": [
    "In this notebook, Data Science Tools and Ecosystem are summarized."
   ]
  },
  {
   "cell_type": "markdown",
   "id": "04982499-3417-444d-b513-3f737bb7736d",
   "metadata": {},
   "source": [
    "Some of the popular languages that Data Scientists use are:\n",
    "1. Python\n",
    "2. Scala\n",
    "3. R\n",
    "\n",
    "**Objectives:**\n",
    "\n",
    "- List popular languages for Data Science\n",
    "- Some of the commonly used libraries used by Data Scientists\n",
    "- simple arithmetic expression to mutiply then add integers.\n"
   ]
  },
  {
   "cell_type": "markdown",
   "id": "186655b3-eba2-42d8-a359-e6733d5898b3",
   "metadata": {},
   "source": [
    "Some of the commonly used libraries used by Data Scientists include: \n",
    "1. Pandas\n",
    "2. NumPy\n",
    "3. Matplotlib\n",
    "4. Seaborn\n"
   ]
  },
  {
   "cell_type": "markdown",
   "id": "94b3d70a-191f-491e-bf8d-600b8fdb3c1f",
   "metadata": {},
   "source": [
    " | Data Science Tools |\n",
    " | ------------------- |\n",
    " | RStudio | \n",
    " | Jupyter Notebook | \n",
    " | Spyder | \n",
    " | Vs Code | \n",
    "\n"
   ]
  },
  {
   "cell_type": "markdown",
   "id": "7eb485c7-7645-48b7-ab52-4dc0bc6d87da",
   "metadata": {},
   "source": [
    "### Below are a few examples of evaluating arithmetic expressions in Python\n",
    "1. 7-5\n",
    "2. 7+5\n",
    "3. 8/2\n"
   ]
  },
  {
   "cell_type": "code",
   "execution_count": 16,
   "id": "aad3194e-df73-4bbf-8d7a-7d9bd979a2b2",
   "metadata": {},
   "outputs": [
    {
     "name": "stdout",
     "output_type": "stream",
     "text": [
      "17\n"
     ]
    }
   ],
   "source": [
    "#This a simple arithmetic expression to mutiply then add integers.\n",
    "a = 3\n",
    "b = 4\n",
    "c = 5\n",
    "result = (a*b)+c\n",
    "print(result)\n",
    "\n",
    "\n"
   ]
  },
  {
   "cell_type": "code",
   "execution_count": 18,
   "id": "028ee9e0-6cc4-4ce6-b57a-9eb169fd3349",
   "metadata": {},
   "outputs": [
    {
     "name": "stdout",
     "output_type": "stream",
     "text": [
      "3.3333333333333335\n"
     ]
    }
   ],
   "source": [
    "# This will convert 200 minutes to hours by diving by 60\n",
    "\n",
    "minutes = 200\n",
    "hour = 60\n",
    "hours = 200/60\n",
    "\n",
    "print(hours)\n",
    "\n"
   ]
  },
  {
   "cell_type": "markdown",
   "id": "06e5dc54-b84e-4857-916a-0982f7a23c64",
   "metadata": {},
   "source": [
    "## Author\n",
    "Juan Carlos Isaac Morel\n",
    "Author"
   ]
  }
 ],
 "metadata": {
  "kernelspec": {
   "display_name": "anaconda-panel-2023.05-py310",
   "language": "python",
   "name": "conda-env-anaconda-panel-2023.05-py310-py"
  },
  "language_info": {
   "codemirror_mode": {
    "name": "ipython",
    "version": 3
   },
   "file_extension": ".py",
   "mimetype": "text/x-python",
   "name": "python",
   "nbconvert_exporter": "python",
   "pygments_lexer": "ipython3",
   "version": "3.11.5"
  }
 },
 "nbformat": 4,
 "nbformat_minor": 5
}
